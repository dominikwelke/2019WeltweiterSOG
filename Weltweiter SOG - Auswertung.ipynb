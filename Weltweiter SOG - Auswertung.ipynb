{
 "cells": [
  {
   "cell_type": "code",
   "execution_count": 1,
   "metadata": {},
   "outputs": [],
   "source": [
    "%matplotlib inline\n",
    "import pandas as pd\n",
    "import seaborn as sns\n",
    "import matplotlib.pyplot as plt"
   ]
  },
  {
   "cell_type": "code",
   "execution_count": 2,
   "metadata": {},
   "outputs": [],
   "source": [
    "file = \"/Users/dominik.welke/Desktop/Weltweiter SOG copy.csv\"\n",
    "data = pd.read_csv(file)\n",
    "\n",
    "#data.head(15)"
   ]
  },
  {
   "cell_type": "code",
   "execution_count": 3,
   "metadata": {},
   "outputs": [],
   "source": [
    "data_q1 = data[data[\"voteOptionId\"] == 1]\n",
    "data_q2 = data[data[\"voteOptionId\"] == 2]\n",
    "data_q3 = data[data[\"voteOptionId\"] == 3]\n",
    "data_q4 = data[data[\"voteOptionId\"] == 4]\n",
    "data_q5 = data[data[\"voteOptionId\"] == 5]\n",
    "data_q6 = data[data[\"voteOptionId\"] == 6]\n",
    "data_q7 = data[data[\"voteOptionId\"] == 7]\n",
    "data_q8 = data[data[\"voteOptionId\"] == 8]\n",
    "data_q9 = data[data[\"voteOptionId\"] == 9]"
   ]
  },
  {
   "cell_type": "markdown",
   "metadata": {},
   "source": [
    "# ergebnisse"
   ]
  },
  {
   "cell_type": "code",
   "execution_count": 4,
   "metadata": {},
   "outputs": [
    {
     "name": "stdout",
     "output_type": "stream",
     "text": [
      "Teilnehmer: N = 31\n"
     ]
    }
   ],
   "source": [
    "n_sub = len(data[\"userId\"].unique())\n",
    "print(\"Teilnehmer: N = %i\" % n_sub)"
   ]
  },
  {
   "cell_type": "code",
   "execution_count": 5,
   "metadata": {},
   "outputs": [
    {
     "name": "stdout",
     "output_type": "stream",
     "text": [
      "frage:\n",
      "Findest du es wichtig, den Austausch zwischen eigenständigen Organisationen zu fördern, die sich dem SOG Gedanken verpflichtet haben, oder sollte sich jedes Chapter auf seine Arbeit konzentrieren?\n"
     ]
    },
    {
     "data": {
      "image/png": "[encoded data removed]",
      "text/plain": [
       "<Figure size 432x288 with 1 Axes>"
      ]
     },
     "metadata": {},
     "output_type": "display_data"
    }
   ],
   "source": [
    "print(\"frage:\")\n",
    "print(data[\"voteOptionText\"][0])\n",
    "\n",
    "fig, ax = plt.subplots()\n",
    "sns.categorical.countplot(y=\"voteAnswer\", data=data_q1, axes=ax)\n",
    "fig = fig.suptitle(\"frage 1\")"
   ]
  },
  {
   "cell_type": "code",
   "execution_count": 6,
   "metadata": {},
   "outputs": [
    {
     "name": "stdout",
     "output_type": "stream",
     "text": [
      "frage:\n",
      "Was wären deiner Meinung nach Themen zu welchen man sich international austauschen, abstimmen oder bei denen man kooperieren sollte? Bei welchen Themen wäre es anders herum vllt. nicht so wichtig, oder sogar hinderlich?\n",
      "------------------------------\n",
      "\n",
      "ydc\n",
      "------------------------------\n",
      "1. Hinderlich: interne Abläufe\n",
      "2. Förderlich: Best & Poor Practices in den Projekten, (fremdsprachliche) Dokumente wie Kooperationsverträge etc. austauschen\n",
      "------------------------------\n",
      "Wichtig wäre Kommunikation bezüglich der Ansätze der Chapters zu haben. Man will letztendlich nicht dass SOG in unterschiedlichen Länder unterschiedliches bedeutet. \n",
      "Weiter wäre es interessant der Wissensaustausch über Regionen in denen gearbeitet wird etc.\n",
      "------------------------------\n",
      "Wichtig ist es sich zu dem allgemeinen SOG-Gedanken, gemeinsame ÖA, gemeinsame Probleme usw. auszutauschen um von dem Wissen und den Mitgliedern der anderen profitieren zu können\n",
      "------------------------------\n",
      "Außendarstellung der Vereinsarbeit/ Ziele und Vision von SOG sollte in enger Absprache und möglichst einheitlich erfolgen. \n",
      "Lokalgruppenspezifische Dinge sind hingegen weniger wichtig. \n",
      "------------------------------\n",
      "Wichtig:\n",
      "-Mitglieder\n",
      "-Events / Fundraising\n",
      "-Finanzen\n",
      "-Design / Marketing\n",
      "-Projekte\n",
      "-Strategie\n",
      "------------------------------\n",
      "Wichtig: Neue Projektregionen und Projekte, Leitfäden \n",
      "------------------------------\n",
      "Corporate Identity, damit man nach außen hin gleich auftritt\n",
      "------------------------------\n",
      "Wichtig: \n",
      "-Postkoloniale Perspektiven\n",
      "-Öffentlichkeitsarbeit\n",
      "Nicht wichtig/ hinderlich: \n",
      "-Einheitliche Organisation der Lokalgruppen\n",
      "------------------------------\n",
      "-- Vorteilhaft ----\n",
      "Austausch: Womit haben wir gute/schlechte Erfahrungen gemacht? Analysen und Auswertungen über Arbeit im Verein (z.B. Portfolioanalysen, Zeit-/Projektmanagement), Material, (IT-Infrastruktur?)\n",
      "\n",
      "Unterstützung: Mitgliederwerbung in anderen Chaptern, Material, Öffentlichkeitsarbeit (z.B. bei EU)\n",
      "\n",
      "Gemeinsame Mitgliederbildung?\n",
      "\n",
      "-- Hinderlich ----\n",
      "Interne Verwaltung wie Finanzen\n",
      "------------------------------\n",
      "Visionen, ÖA und Netzwerk mit anderen Orgs im Dachverband.\n",
      "ÖA, Projektdurchführung sollte man in den lokalen ESFs lassen.\n",
      "------------------------------\n",
      "Cooperate Design, Satzung, ggf auch in der Projektarbeit (wenn man ein Projekt auf mehrere Chapter verteilt würde das auch gleichzeitig die Zusammenarbeit stärken) \n",
      "------------------------------\n",
      "Partner suchen, Sprachaustausch (Tandem)\n",
      "------------------------------\n",
      "einheitliche Vision, Strategie, Ansatz, \"Philosophie\" - das große Ganze, dass man sich in diesen wichtigen Themen nicht widerspricht. \n",
      "------------------------------\n",
      "Dass die Chapter sich alle an die ESFI-Satzung halten, und den Rahmen halten: Krisen/Konfliktregionen (in Deutschland derzeit noch enger gefasst mit Kriegsregionen), und Hochschulbildung. \n",
      "------------------------------\n",
      "wichtig: Postkoloniale Reflexion nicht nur in den einzelnen Chaptern sondern in allen SOG-Organisationen\n",
      "nicht wichtig: einzelen Veranstaltungen bzw. Lokalebene \n",
      "------------------------------\n",
      "--> kooperieren/ austauschen:\n",
      "- Entwicklung von ESF auf internationaler Ebene: Wohin soll es mit uns?\n",
      "- Connections/ Erfahrungen zu Partnerorganisationen\n",
      "- (Vermittlung) von Zusammenarbeit mit international tätigen, anderen gemeinnützigen Organisationen\n",
      "- Ausrichtung von internationalen SOG Konferenzen, um voneinander zu lernen\n",
      "\n",
      "--> hinderlich:\n",
      "- Sprachbarrieren? Kulturbarrieren? Würde das aber nicht wirklich als Gegenargument sehen\n",
      "------------------------------\n",
      "Erfahrungen Austauschen, Empfehlungen für Partnerorganisationen und Netzwerk vor Ort vergrößern, !!!Bekanntheitsgrad weltweit verbessern!!!\n",
      "------------------------------\n",
      "Kooperation ist immer wichtig beim Umgang mit Krisensituationen und/oder Umgang mit Partnernetzwerken (Im Bezug auf Verbindlichkeiten)\n",
      "------------------------------\n",
      "Vor allem mit Gruppen im Ausland fände ich es interessant über ihre Mitgliederwerbung und Fundraisingstrategie zu reden. Zudem könnte es hilfreich sein zu erfahren, mit wem sie vor Ort ihrer Projekte kooperieren und z.B. zu erfahren, ob sie bereits Krisensituationen mit Handlungsdruck wie wir zurzeit in Kindu hatten.\n",
      "------------------------------\n",
      "Viele Themen der Organisation sind m.M.n. Themen, zu denen ein Austausch Sinn macht. Wie sind die Abläufe, die Hierarchien, die Aufgaben von Mitgliedern in den Chaptern geregelt? Wofür gibt es Anlaufstellen? Was funktioniert bei anderen Chaptern besonders gut? Was wiederum nicht?\n",
      "------------------------------\n",
      "+\n",
      "Design\n",
      "Kommunikation\n",
      "Infrastruktur\n",
      "Mitgliederbetreuung\n",
      "Corporate Identity\n",
      "Governance-Strukturen\n",
      "------------------------------\n",
      "Ermittlung der Höhe des Stipendiums, Auswirkungen der Entwicklungsarbeit auf die Projektländer, \n",
      "------------------------------\n",
      "Aufarbeitung der deutschen/ europäischen Kolonialzeit und strukturellen Ungleichheiten zwischen dem globalen Norden und Süden.\n",
      "Wie kann solidarität unter diesen Umständen funktionieren?\n",
      "------------------------------\n",
      "Austausch hilfreich bei Themen wie\n",
      "- PoKo: Wie gelingt euch die Zusammenarbeit auf Augenhöhe? \n",
      "- Organisationsstruktur: Was können wir voneinander lernen? (Ist mMn nicht nur hilfreich im Austausch mit Organisationen, die den gleichen Ansatz haben sondern insgesamt studentisch organisiert sind.)\n",
      "\n",
      "Kooperationen...\n",
      "- In welchen Regionen der Welt sind die anderen Chapter aktiv? Wieso und wie? Gibt es Möglichkeiten vor Ort zu kooperieren? Ist es sinnvoll im gleichen Land aktiv zu sein? \n",
      "- SOG bekannt machen auf internationaler Ebene\n",
      "------------------------------\n",
      "wichtig: \n",
      "- Austauch zu Best Practice (so ziemlich zu allem :D)\n",
      "- internationales Netzwerk an Kooperationspartner*innen\n",
      "- Expert*innenaustausch\n",
      "\n",
      "weniger wichtig:\n",
      "- finanziell\n",
      "------------------------------\n",
      "Austausch: Stipendienprogramme und soziale Projekte; Mitgliederwerbung\n",
      "------------------------------\n",
      "Wichtig: Kooperationspartner*innen vor Ort, Überweisungswege, IT-Infrastruktur, Förderanträge\n",
      "------------------------------\n",
      "Ich fände es hilfreich zumindest über die Projektregionen Bescheid zu wissen. Es könnte ja durchaus sein, dass verschiedene Chapter in derselben Region tätig sind und voneinander nichts wissen. Dadurch kommen Kooperationen vielleicht nicht zustande, die eine Bereicherung wären. \n",
      "Bezüglich der Organisations-Struktur würde ich einen zu starken Austausch als wahrscheinlich eher hinderlich betrachten, da jedes Chapter an den Kontext des jeweiligen Landes und die dortigen Arbeits-Strukturen angepasst sein sollte. \n",
      "------------------------------\n",
      "Sinn, Methodik und Art der Entwicklungshilfe sind abzustimmende Punkte\n",
      "------------------------------\n",
      "internationale Werbekampanien\n",
      "------------------------------\n"
     ]
    }
   ],
   "source": [
    "print(\"frage:\")\n",
    "print(data[\"voteOptionText\"][1])\n",
    "print(\"------------------------------\")\n",
    "print(\"\")\n",
    "\n",
    "for t in data_q2[\"voteAnswer\"].unique():\n",
    "    print(t)\n",
    "    print(\"------------------------------\")\n",
    "\n",
    "\n",
    "#fig, ax = plt.subplots()\n",
    "#sns.categorical.countplot(x=\"voteAnswer\", data=data_q2, axes=ax)\n",
    "#fig.suptitle(\"frage 2\")"
   ]
  },
  {
   "cell_type": "code",
   "execution_count": 7,
   "metadata": {},
   "outputs": [
    {
     "name": "stdout",
     "output_type": "stream",
     "text": [
      "frage:\n",
      "Kannst du dir Themen oder Aufgaben vorstellen, die man in SOG Deutschland nicht angeht, weil es besser wäre diese in einem internationalen Verbund zu bearbeiten?\n",
      "------------------------------\n",
      "\n",
      "yxc\n",
      "------------------------------\n",
      "Nein\n",
      "------------------------------\n",
      "Ja, vor allem die Zusammenarbeit mit anderen Organisationen die eine größere Reichweite haben, da ein internationaler Verband eine größere Reichweite hat und auch eine größere zeigt und ausdrückt\n",
      "------------------------------\n",
      "übergreifende Werbung, Verbreitung des Vereins und seines Zwecks\n",
      "------------------------------\n",
      "Im Moment nicht, mehr Perspektiven bringen jedoch auch immer neue Ideen. \n",
      "------------------------------\n",
      "-Rechtliche Probleme in anderen Chaper Ländern\n",
      "-Projekte, die mit SOG Deutschland nichts zu tun haben\n",
      "------------------------------\n",
      "Mir fällt nichts ein\n",
      "------------------------------\n",
      "s.o.\n",
      "------------------------------\n",
      "Eigentlich nicht\n",
      "------------------------------\n",
      "3 Säulen, M+E, Vernetzung mit EZ Trägern\n",
      "------------------------------\n",
      "Internationale Bezeichnung von SOG. \n",
      "------------------------------\n",
      "Englische Inhalte\n",
      "------------------------------\n",
      "Unser englischer Name :D \n",
      "------------------------------\n",
      "Politische Positionierungen sollten, wenn überhaupt, nur international abgestimmt werden. \n",
      "------------------------------\n",
      "nein\n",
      "------------------------------\n",
      "- aktuelles Beispiel: englische Übersetzung des Namens von SOG?\n",
      "------------------------------\n",
      "gemeinsames Auftreten beim werben von internationalen Partnern und Unterstützern (z.B. Vereinte Nationen, berühmte Persönlichkeiten,...)\n",
      "------------------------------\n",
      "Die Frage ist verwirrend...viele Themen werden bei SOG Deutschland angegangen wo es vielleicht besser wäre, diese international anzugehen ...zb internationale Positionierung zu bestimmten Themen oder gemeinsame Leitbilder. Netzwerkarbeit etc...\n",
      "------------------------------\n",
      "Der Start neuer Projekte in bestimmten Ländern könnte möglicherweise durch internationalen Wissensaustausch und Kooperation gefördert werden.\n",
      "------------------------------\n",
      "Ansprechen von großen, internationalen EZ-Organisationen, oder UN oder EU- Institutionen. Bewusstsein schaffen auf \"einer Ebene höher\".\n",
      "Auch Lobbyarbeit für die Ziele und Werte von SOG wäre denkbar.\n",
      "Stichwort Alumni-Netzwerk: Man könnte Alumni und Stipis dazu ermutigen, in ihrer Region SOG-ähnliche Organisationen aufzubauen, die zu großen Teilen unabhängig von SOG sind.\n",
      "------------------------------\n",
      "-\n",
      "------------------------------\n",
      "k.A.\n",
      "------------------------------\n",
      "Gemeinsam die Zusammenarbeit im Kontext globaler Ungleichheiten besprechen. Dies kann nicht einseitig von Deutschland aus passieren. \n",
      "------------------------------\n",
      "Ich denke, dass die meisten \"großen\" Themen auch genauso gut bundesweit besprochen und umgesetzt werden könnten. Ich sehe es, wenn, dann eher als Kapazitätsproblem und dass man international vielleicht noch mal ein Team hätte, dass sich ähnlich dem SOG-DE- Vorstand noch mal um gemeinsame Themen kümmert, ggf. Tasforces oder AGs bildet und gründet, die sich dann eben zu gemeinsamen Problemen und Lösungsansätzen austauschen. \n",
      "------------------------------\n",
      "- Gründung neuer Chapter\n",
      "------------------------------\n",
      ".\n",
      "------------------------------\n",
      "Ein internationaler Verbund hätte möglicherweise eine stärkere Aufmerksamkeit. Das kann sowohl positive als auch negative Folgen für die Programme haben. Insbesondere unter Berücksichtigung des Do-No-Harm-Ansatzes könnte eine internationale Organisation, die auch als solche Auftritt politische Aufmerksamkeit erregen, die wir eigentlich in Konflikt- und Krisengebieten vermeiden möchten. \n",
      "------------------------------\n",
      "(dazu bräuchte ich mehr Informationen)\n",
      "------------------------------\n"
     ]
    }
   ],
   "source": [
    "print(\"frage:\")\n",
    "print(data[\"voteOptionText\"][2])\n",
    "print(\"------------------------------\")\n",
    "print(\"\")\n",
    "\n",
    "for t in data_q3[\"voteAnswer\"].unique():\n",
    "    print(t)\n",
    "    print(\"------------------------------\")\n"
   ]
  },
  {
   "cell_type": "code",
   "execution_count": 8,
   "metadata": {},
   "outputs": [
    {
     "name": "stdout",
     "output_type": "stream",
     "text": [
      "frage:\n",
      "Hier einige Beispiele, wobei die internationalen SOG Chapter kooperieren könnten. Bitte markiere die Bereiche, die du am wichtigsten findest (maximal 4)\n"
     ]
    },
    {
     "data": {
      "image/png": "[encoded data removed]",
      "text/plain": [
       "<Figure size 432x288 with 1 Axes>"
      ]
     },
     "metadata": {},
     "output_type": "display_data"
    }
   ],
   "source": [
    "print(\"frage:\")\n",
    "print(data[\"voteOptionText\"][3])\n",
    "\n",
    "fig, ax = plt.subplots()\n",
    "sns.categorical.countplot(y=\"voteAnswer\", data=data_q4, axes=ax, orient=\"v\")\n",
    "fig = fig.suptitle(\"frage 4\")"
   ]
  },
  {
   "cell_type": "code",
   "execution_count": 9,
   "metadata": {},
   "outputs": [
    {
     "name": "stdout",
     "output_type": "stream",
     "text": [
      "frage:\n",
      "Wir gehen davon aus, dass du zumindest bei einigen der Fragen oben positiv geantwortet oder sogar schon Ideen aufgeschrieben hast. Welche Struktur wäre am besten geeignet, um die internationalen Themen effektiv anzugehen?\n"
     ]
    },
    {
     "data": {
      "image/png": "[encoded data removed]",
      "text/plain": [
       "<Figure size 432x288 with 1 Axes>"
      ]
     },
     "metadata": {},
     "output_type": "display_data"
    }
   ],
   "source": [
    "print(\"frage:\")\n",
    "print(data[\"voteOptionText\"][4])\n",
    "\n",
    "fig, ax = plt.subplots()\n",
    "sns.categorical.countplot(y=\"voteAnswer\", data=data_q5, axes=ax, orient=\"v\")\n",
    "fig = fig.suptitle(\"frage 5\")"
   ]
  },
  {
   "cell_type": "code",
   "execution_count": 10,
   "metadata": {},
   "outputs": [
    {
     "name": "stdout",
     "output_type": "stream",
     "text": [
      "frage:\n",
      "..wenn du \"anderes\" gekreuzt hast: was?\n",
      "------------------------------\n",
      "\n",
      "yxc\n",
      "------------------------------\n",
      "jk\n",
      "------------------------------\n",
      "-\n",
      "------------------------------\n",
      ".\n",
      "------------------------------\n",
      "Der Fragebogen lässt sich nicht beenden, wenn ich hier nichts reinschreibe\n",
      "------------------------------\n",
      "Hab ich nicht:)\n",
      "------------------------------\n",
      "Gegenseitiger Besuch auf MV/Ferienlager :)\n",
      "------------------------------\n",
      "nichts\n",
      "------------------------------\n",
      "...\n",
      "------------------------------\n",
      "Den Dachverband haben wir doch schon gegründet. Dass jedes Chapter Verantwortliche haben sollte, die sich um die Zusammenarbeit in ESFI kümmert, ist natürlich auch sinnvoll.  \n",
      "------------------------------\n",
      "ich habe nicht anderes angekreuzt\n",
      "------------------------------\n",
      "/\n",
      "------------------------------\n",
      "X\n",
      "------------------------------\n",
      "aktuell würde es auch ein internationaler Arbeitskreis tun. Langfristig macht m.M.n. nur ein Dachverband Sinn.\n",
      "------------------------------\n",
      "0\n",
      "------------------------------\n",
      "..\n",
      "------------------------------\n",
      "hab ich nicht :D\n",
      "------------------------------\n",
      "Ich muss hier \"anderes\" sagen, weil ich ehrlich keine Ahnung habe, wo in der Arbeit jeweils der Unterschied wäre.. Da fehlen mir die Informationen. \n",
      "------------------------------\n",
      "hab ich nicht\n",
      "------------------------------\n"
     ]
    }
   ],
   "source": [
    "print(\"frage:\")\n",
    "print(data[\"voteOptionText\"][5])\n",
    "print(\"------------------------------\")\n",
    "print(\"\")\n",
    "\n",
    "for t in data_q6[\"voteAnswer\"].unique():\n",
    "    print(t)\n",
    "    print(\"------------------------------\")\n"
   ]
  },
  {
   "cell_type": "code",
   "execution_count": 11,
   "metadata": {},
   "outputs": [
    {
     "name": "stdout",
     "output_type": "stream",
     "text": [
      "frage:\n",
      "Jetzt mal Butter bei die Fische: Wie du weißt haben wir einen internationalen Dachverband (Etudes Sans Frontieres International) der sich aus Mitgliedern der Chapter zusammensetzt - aber niemand will sich engagieren. Hältst du einen unabhängigen Dachverband für die Umsetzung einer internationalen Ausrichtung und Zusammenarbeit für notwendig?\n"
     ]
    },
    {
     "data": {
      "image/png": "[encoded data removed]",
      "text/plain": [
       "<Figure size 432x288 with 1 Axes>"
      ]
     },
     "metadata": {},
     "output_type": "display_data"
    }
   ],
   "source": [
    "print(\"frage:\")\n",
    "print(data[\"voteOptionText\"][6])\n",
    "\n",
    "fig, ax = plt.subplots()\n",
    "sns.categorical.countplot(y=\"voteAnswer\", data=data_q7, axes=ax, orient=\"v\")\n",
    "fig = fig.suptitle(\"frage 7\")"
   ]
  },
  {
   "cell_type": "code",
   "execution_count": 12,
   "metadata": {},
   "outputs": [
    {
     "name": "stdout",
     "output_type": "stream",
     "text": [
      "frage:\n",
      "..könntest du das ein bisschen ausführen?\n",
      "------------------------------\n",
      "\n",
      "xx\n",
      "------------------------------\n",
      "Ich bin davon überzeugt, dass ein Dachverband die Idee von SOG noch in vielen anderen Ländern umsetzen könnte und stark zum Wissensaustausch zwischen den Chaptern beitragen könnte. Allerdings ist es kein Muss, sondern eher ein Nice-To-Have - und wenn sich partout niemand dafür engagieren möchte, dass können denke ich trotzden alle ihre Arbeit fortsetzen wie bisher und bei Bedarf Kontakt zu anderen Chaptern aufnehmen\n",
      "------------------------------\n",
      "Ein internationaler Verband gibt unserer Arbeit Konsistenz, Legitimität wenn man mag. Dies ermöglicht nicht nur größeres Wissen zu haben sondern mehr Einfluss zu haben und größere Veränderungen zu ermöglichen. \n",
      "------------------------------\n",
      "Ich finde es gut einen Verein zu haben der sich mit internationalen Problemen und Fragestellungen auseinandersetzt da dadurch dort ein direkter Fokus gesetzt wird der sonst eher untergeht\n",
      "------------------------------\n",
      "-\n",
      "------------------------------\n",
      "Ich habe das Gefühl, dass der Dachverband an sich eine wunderbare Idee ist, aber zu wenig von den einzelnen Chaptern und Mitgliedern unterstützt wird. Weiterhin habe ich den Eindruck das eine Gesamtstrategie / Aufgabe fehlt. Vielleicht muss man umdenken und einen Arbeitskreis (siehe oben) bilden, statt einen eigenen Dachverband.. Ich habe auch nicht die perfekte Lösung, denke aber, dass sich einiges ändern muss. Die internationale Zusammenarbeit bleibt aber sehr sehr wichtig und muss bestehen bleiben !!\n",
      "------------------------------\n",
      "Kann ich nicht einschätzen \n",
      "------------------------------\n",
      "allgemeine Interessen sollen in der Öffentlichkeit vertreten werden\n",
      "------------------------------\n",
      "Solange in einem Arbeitskreis alle Chapter und Themen, über die sich ausgetauscht werden soll, vertreten sind, funktioniert internationale Zusammenarbeit auch ohne Dachverband.\n",
      "------------------------------\n",
      "Wenn der ESFI nicht funktioniert, könnte man ausprobieren, ob die Lokalgruppen in Deutschland direkt Kontakt zu Lokalgruppen in anderen Chaptern halten wollen (Wer kennt auf LG-Ebene schon die anderen Chapter?). Zur Koordination würde ein Posten im Vorstand dann ausreichen.\n",
      "------------------------------\n",
      "wäre schön, aber wir könne auch erst einmal ESF DE weitere professionalisieren\n",
      "------------------------------\n",
      "Wahrscheinlich könnte man die Arbeit besser in Internationalen AGs aufteilen. Dann könnte jeder sich das Themengebiet suchen, das ihn_sie interessiert. Klappt ja hier in Deutschland eigentlich ganz gut...\n",
      "\n",
      "------------------------------\n",
      "Es könnte eine Gruppe vom Verein sein.\n",
      "------------------------------\n",
      "Irgendwie muss man ja sicherstellen, dass man gemeinsame Ideen auch umsetzt und ich denke, dass es auch sinnvoll sein könnte, wenn es ein unabhängiger Dachverband macht. Ich glaube, das Problem ist, dass man momentan noch nicht unbedingt die Notwendigkeit oder Sinnhaftigkeit hinter der internationalen Zusammenarbeit der Chapter sieht. \n",
      "------------------------------\n",
      "Das ist die einzige Rechtsform, die den Laden zusammenhält. Sonst fängt ein ESF-Chapter an, komische Sachen zu machen und zu propagieren, und die anderen Chapter leiden darunter, mindestens vom Ansehen her. Auch wenn es derzeit nicht danach aussieht, war ESF immer eine internationale Idee und sollte vorangetragen werden. \n",
      "Ein Engagement bei ESFI ist für SOG allein deswegen schon wichtig, weil es das höherrangige Organ ist und SOG sich an das halten muss (!), was ESFI beschließt. Das gilt übrigens auch für so Sachen wie ein Neu-Design des Logos....\n",
      "------------------------------\n",
      "ich glaube, dass viele Mitglieder sich schon lokal so viel engagieren, dass nicht mehr so viel Energie für einen Dachverband ist. \n",
      "Ich sehe außerdem noch nicht so ganz den Nutzen eines Dachverbandes (was macht er anders bzw. besser)\n",
      "------------------------------\n",
      "Ich denke, wie man es am Ende nennt, ist nicht so wichtig. Wahrscheinlich sollten sich aber (wie auch beim deutschen Vorstand) hier Mitglieder für eine gewisse Zeit (z.B. 1 Jahr) committen, um da tatsächlich etwas zu bewegen.\n",
      "------------------------------\n",
      "Wir brauchen einen Dachverband, der geschlossen hinter allen SOG-Chaptern steht und uns weltweit in der Öffentlichkeit vertritt. Es ist doch cool, wenn der Gedanke von SOG international wird und wir als Mitglieder aber auch unsere Stipendiaten davon profitieren können. Der Dachverband könnte präsentative Aufgaben vor Organisationen (UN, Staaten,..) übernehmen und die Chapter miteinander verknüpfen und so das Bindeglied aller Chapter darstellen.\n",
      "------------------------------\n",
      "\"Nein\" bezieht sich vorallem auf das Wort \"unabhängig\". Grundsätzlich macht es aus meiner Sicht wenig Sinn, Menschen aus dem Aktiven Geschehen eines Vereins herauszunehmen um dann diese eigentlichen Interessen international zu vertreten. Ich kenne zumindest keine Konstellation, wo dieses Modell funktioniert...ich kenne nur Modelle wo Vertreter aus den Aktiven Vereinen sich in der Dachstiftung als Zusammenschluss engagieren, aber nicht oder nie unabhängig von den Vereinen oder dem Vereinsgeschehen funktionieren. Man brauch immer engagierte Springer. Oder man delegiert Menschen aus den Lokalgruppen für bestimmte Zeiträume als Ansprechpartner, wie ein Wechselsystem. Dies kann meiner Meinung nach auch \"semifreiwllig\" passieren, dh zb kÖnnte man sich Überlegen dass Lokalgruppen über 25 Mitglieder einfach jemanden stellen sollen, der ein paar Stunden im Monat sich beim ESFI engagiert...so wie ein Kassenwart pflicht ist, wird dieses Amt einfach auch Pflicht wenn es die Strategische Ausrichtung von SOG UND dem ESFI verlangt..man gewöhnt sich dann einfach daran und dann wird auch das Outcome /Motivation größer, sobald die ersten Projekte fruchten.\n",
      "------------------------------\n",
      "Ich fände eine Zusammenarbeit in Arbeitsgruppen bzw. flexibler Austausch zwischen den Gruppen sinnvoller als offiziell im Rahmen eines Dachverbandes. Bzw. dachte ich auch immer dass es sich hierbei um die französische Gründerversion handelt und nicht unbedingt um einen Dachverband der auf den Austausch der einzelnen Chapter fokussiert ist. \n",
      "------------------------------\n",
      "Aktuell liegt ein sehr großer Anteil des SOG Universums in Deutschland. Ich glaube, es muss ein Gremium geben, dass sich aktiv mit den Themen auseinander setzt und dies nicht nur \"nebenbei\" macht. Einen großen Mehrwert entfaltet ein unabhängiger Dachverband aber erst bei mehr Chaptern als nur Ö und D. Ein Dachverband hat mehr \"Autorität\" als eine Arbeitsgruppe innerhalb eines Chapters.\n",
      "------------------------------\n",
      "Wenn Dachverband, dann braucht der auch Kompetenzen und exekutive Entscheidungsbefugnis\n",
      "------------------------------\n",
      "Es werden Leute benötigt, die sich nur für dieses Thema einsetzen, sonst passiert nichts.\n",
      "------------------------------\n",
      "..\n",
      "------------------------------\n",
      "Ich schwanke tatsächlich zwischen \"Ja\" und \"Egal\": Wie ich oben geschrieben habe, denke ich, dass Arbeitskreise, die sich aus internationalen Mitgliedern zusammensetzen sinnvoll sind um eine internationale Ausrichtung des Vereins zu ermöglichen. Um diese Arbeitskreise aber zu ermöglichen, bedarf es einer Koordination ihrer Aktivitäten. Dementsprechend komme ich zu dem Schluss, dass es eine Art Vorstand geben muss, um diese Kapazitäten zu bündeln und gemeinsam konstruktiv arbeiten zu können.\n",
      "Aktuell sehe ich es aber nicht als Priorität des Vereins sich zu Internationalisieren. (Auch wenn ichs grundsätzlich für ne tolle und wichtige Vision halte!) Zum jetzigen Zeitpunkt bin ich mir auch nicht sicher, ob wir genau diese Kapazitäten haben, die notwendig wären um wirklich aktiv an Kooperationen + Austausch mit anderen Chaptern zu arbeiten: Wir sind aktuell im bundesweiten Verein mMn nach (noch) nicht soweit, dass das bundesweite Engagement und die Identifikation mit dem Verein so groß sind, dass wir von Mitgliedern eine Priorisierung der internationalen Ausrichtung erwarten können. Wir müssten also definitiv zuerst die Frage klären, ob SOG Deutschland eine internationale Ausrichtung und Zusammenarbeit anstrebt, wenn dafür die Motivation unter den Mitgliedern hoch genug ist, sollten sich auch AKs bilden lassen, die konsequent genau daran arbeiten. Ein unabhängiger Dachverband nur um ihn eben zu haben und sagen zu können dass wir international aktiv sind, halte ich nicht für sinnvoll. Wenn, dann sollte dort auch konkrete Arbeit passieren. \n",
      "------------------------------\n",
      "Zum aktuellen Zeitpunkt Nein. Die Aufgaben aktuell sind m.M.n. unakttraktiv für Interessierte. Darüber hinaus ist den meisten Mitgliedern nicht voll transparent was eigentlich die Aufgaben des ESFI sind. Der Wissensaustausch zwischen den Chaptern beläuft sich im Allgemeinen nur auf Österreich und Deutschland. Dies ist auch gut in direkter Kooperation möglich.\n",
      "Wirklich Sinn macht der ESFI als eigenständiger Verband nur, wenn es mehr Chapter gibt. Der Verwaltungsaufwand ist aktuell deutlich größer als der Nutzen. Aus diesem Grund bin ich für eine Bündelung der Ressourcen in einer internationalen (oder auch nur nationalen) AG, die sich mit der Gründnung neuer Chapter etc. beschäftigt. Eine nationale AG in Deutschland hätte direkten Zugriff auf die Ressourcen des ganzen Vereins (IT, Wissen, etc.) und müsste sich nicht mit einer regelkonformen Vereinsführung (Eintragung, Steuerrecht etc.) herumschlagen. \n",
      "Aus dieser Arbeitsgruppe heraus kann sich langfristig vielleicht wieder ein internationaler Dachverband bilden.\n",
      "------------------------------\n",
      "Ich stelle es mir leichter vor sich innerhalb eines gemeinsamen Dachverbandes auszutauschen, Kooperationen anzuregen und sich abzustimmen, als nur in einem internationalen Arbeitskreis.\n",
      "------------------------------\n",
      "mMn kann man Austausch nicht erzwingen, wenn Austausch gewünscht ist, klappt das auch ohne Dachverband\n",
      "------------------------------\n",
      "Ich glaube nicht, dass es notwendig ist und danach wurde hier ja gefragt. Ich glaube aber, dass es hilfreich ist, wenn man unter einem Dachverband gemeinsam auftritt und dieser ja schon vorhanden ist. \n",
      "------------------------------\n",
      "Ich habe darüber sehr wenig Informationen und weiß gar nicht, was der so macht\n",
      "------------------------------\n",
      "SOG arbeitet international. schon allein durch unsere Stipis. Warum nicht auch in der Arbeit im globalen Norden.\n",
      "------------------------------\n"
     ]
    }
   ],
   "source": [
    "print(\"frage:\")\n",
    "print(data[\"voteOptionText\"][7])\n",
    "print(\"------------------------------\")\n",
    "print(\"\")\n",
    "\n",
    "for t in data_q8[\"voteAnswer\"].unique():\n",
    "    print(t)\n",
    "    print(\"------------------------------\")\n"
   ]
  },
  {
   "cell_type": "code",
   "execution_count": 13,
   "metadata": {},
   "outputs": [
    {
     "name": "stdout",
     "output_type": "stream",
     "text": [
      "frage:\n",
      "Das wars, danke für deine Antworten! Hier mal ein freies Kommentarfeld, falls du noch etwas loswerden möchtest ;)\n",
      "------------------------------\n",
      "\n",
      "-\n",
      "------------------------------\n",
      "Danke für eure Arbeit :)\n",
      "------------------------------\n",
      "Leider scheint das immer eher passiv zu geschehen und es wir kaum etwas aktiv in die einzelnen Vereine reingetragen (kaum größere Projekte z.B. übergreifende ÖA, kaum Kommunikation zu dem Chapter in Kanada usw.)\n",
      "------------------------------\n",
      "Vielen Dank für eure Arbeit und euer Engagement <3\n",
      "------------------------------\n",
      ":) \n",
      "------------------------------\n",
      ":-) macht weiter so!\n",
      "------------------------------\n",
      "Schöne Umfrage:)\n",
      "Ich habe mir bisher noch keine Gedanken zu SOG weltweit gemacht und das war ein super Denkanstoß.\n",
      "------------------------------\n",
      "Nichts\n",
      "------------------------------\n",
      "rtztrz\n",
      "------------------------------\n",
      "Das die Zusammenarbeit bestehen bleibt und eher intensiviert wird, halte ich für sehr wichtig! Danke für euer bisheriges Engagement im ESFI :) \n",
      "------------------------------\n",
      ".\n",
      "------------------------------\n",
      "Danke, dass ihr euch Gedanken macht! Bis nächste Woche :) \n",
      "------------------------------\n",
      "keine Kommentare\n",
      "------------------------------\n",
      "Ich finde das Thema total relevant und würde mich total freuen, wenn wir uns auch international stärker vernetzen würden! Vielleicht könnte man auch Austausche zueinander organisieren, um sich und die gegenseitige Arbeit kennen zu lernen ...? 💭\n",
      "------------------------------\n",
      "Ich freu mich auf die Diskussion bei der Bundestagung!!\n",
      "------------------------------\n",
      "Stresst euch nicht, internationale Netzwerke aufbauen ist kein Ringelpietz mit Anfassen* Danke für eure Mühen!\n",
      "------------------------------\n",
      "X\n",
      "------------------------------\n",
      "Ich glaube, dass erste große Erfolge im ESFI eine Menge Motivation und Engagement erfordern, dass der ESFI aber auch enorme Potentiale für das Erreichen unserer Vision bietet. Ich fände es schade, wenn die Internationale Ausrichtung von SOG komplett ins Hintertreffen gerät.\n",
      "------------------------------\n",
      "0\n",
      "------------------------------\n",
      "..\n",
      "------------------------------\n",
      "Vielen Dank für euer Engagement und diese Umfrage! Ich finde eine internationale Ausrichtung und Zusammenarbeit mit anderen Chaptern sind super Ideen und könnten SOG Deutschland noch viel besser und größer machen. Ich bin allerdings unsicher inwieweit dafür aktuell Kapazitäten und Bewusstsein bestehen. Ich bin gespannt wie's weitergeht!!!\n",
      "------------------------------\n",
      "Danek für die Umfrage und die Mühe, die ihr euch macht! :)\n",
      "------------------------------\n",
      "Viel Erfolg \n",
      "------------------------------\n",
      "Ich finde es mega gut, dass ihr euch über den ganzen \"Alltags-SOG-Stress\" auch noch mit diesen Themen beschäftigt. Ich persönlich kann zu vielen Dingen hier aber nur spontane Einschätzungen geben, da mir der Dachverband in meiner SOG-Arbeit noch gar nicht wirklich begegnet ist. Vielleicht könnte man hier nochmal mehr informieren, was der eigentlich tut, wer da (schon) engagiert ist und was wir damit eigentlich erreichen wollen. Merci!\n",
      "------------------------------\n",
      "Was ist ein Chapter?\n",
      "------------------------------\n"
     ]
    }
   ],
   "source": [
    "print(\"frage:\")\n",
    "print(data[\"voteOptionText\"][8])\n",
    "print(\"------------------------------\")\n",
    "print(\"\")\n",
    "\n",
    "for t in data_q9[\"voteAnswer\"].unique():\n",
    "    print(t)\n",
    "    print(\"------------------------------\")\n"
   ]
  },
  {
   "cell_type": "code",
   "execution_count": null,
   "metadata": {},
   "outputs": [],
   "source": []
  }
 ],
 "metadata": {
  "kernelspec": {
   "display_name": "Python 3",
   "language": "python",
   "name": "python3"
  },
  "language_info": {
   "codemirror_mode": {
    "name": "ipython",
    "version": 3
   },
   "file_extension": ".py",
   "mimetype": "text/x-python",
   "name": "python",
   "nbconvert_exporter": "python",
   "pygments_lexer": "ipython3",
   "version": "3.6.6"
  }
 },
 "nbformat": 4,
 "nbformat_minor": 2
}
